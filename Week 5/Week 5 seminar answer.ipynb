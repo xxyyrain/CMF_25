{
 "cells": [
  {
   "cell_type": "markdown",
   "id": "0e9366b5",
   "metadata": {},
   "source": [
    "# Question 1"
   ]
  },
  {
   "cell_type": "code",
   "execution_count": 1,
   "id": "33de040b",
   "metadata": {},
   "outputs": [
    {
     "data": {
      "text/html": [
       "<div>\n",
       "<style scoped>\n",
       "    .dataframe tbody tr th:only-of-type {\n",
       "        vertical-align: middle;\n",
       "    }\n",
       "\n",
       "    .dataframe tbody tr th {\n",
       "        vertical-align: top;\n",
       "    }\n",
       "\n",
       "    .dataframe thead th {\n",
       "        text-align: right;\n",
       "    }\n",
       "</style>\n",
       "<table border=\"1\" class=\"dataframe\">\n",
       "  <thead>\n",
       "    <tr style=\"text-align: right;\">\n",
       "      <th></th>\n",
       "      <th>Date</th>\n",
       "      <th>Open</th>\n",
       "      <th>High</th>\n",
       "      <th>Low</th>\n",
       "      <th>Close</th>\n",
       "      <th>Adj Close</th>\n",
       "      <th>Volume</th>\n",
       "    </tr>\n",
       "  </thead>\n",
       "  <tbody>\n",
       "    <tr>\n",
       "      <th>0</th>\n",
       "      <td>2023-02-22</td>\n",
       "      <td>148.869995</td>\n",
       "      <td>149.949997</td>\n",
       "      <td>147.160004</td>\n",
       "      <td>148.910004</td>\n",
       "      <td>148.119370</td>\n",
       "      <td>51011300</td>\n",
       "    </tr>\n",
       "    <tr>\n",
       "      <th>1</th>\n",
       "      <td>2023-02-23</td>\n",
       "      <td>150.089996</td>\n",
       "      <td>150.339996</td>\n",
       "      <td>147.240005</td>\n",
       "      <td>149.399994</td>\n",
       "      <td>148.606781</td>\n",
       "      <td>48394200</td>\n",
       "    </tr>\n",
       "    <tr>\n",
       "      <th>2</th>\n",
       "      <td>2023-02-24</td>\n",
       "      <td>147.110001</td>\n",
       "      <td>147.190002</td>\n",
       "      <td>145.720001</td>\n",
       "      <td>146.710007</td>\n",
       "      <td>145.931076</td>\n",
       "      <td>55469600</td>\n",
       "    </tr>\n",
       "    <tr>\n",
       "      <th>3</th>\n",
       "      <td>2023-02-27</td>\n",
       "      <td>147.710007</td>\n",
       "      <td>149.169998</td>\n",
       "      <td>147.449997</td>\n",
       "      <td>147.919998</td>\n",
       "      <td>147.134644</td>\n",
       "      <td>44998500</td>\n",
       "    </tr>\n",
       "    <tr>\n",
       "      <th>4</th>\n",
       "      <td>2023-02-28</td>\n",
       "      <td>147.050003</td>\n",
       "      <td>149.080002</td>\n",
       "      <td>146.830002</td>\n",
       "      <td>147.410004</td>\n",
       "      <td>146.627335</td>\n",
       "      <td>50547000</td>\n",
       "    </tr>\n",
       "  </tbody>\n",
       "</table>\n",
       "</div>"
      ],
      "text/plain": [
       "         Date        Open        High         Low       Close   Adj Close  \\\n",
       "0  2023-02-22  148.869995  149.949997  147.160004  148.910004  148.119370   \n",
       "1  2023-02-23  150.089996  150.339996  147.240005  149.399994  148.606781   \n",
       "2  2023-02-24  147.110001  147.190002  145.720001  146.710007  145.931076   \n",
       "3  2023-02-27  147.710007  149.169998  147.449997  147.919998  147.134644   \n",
       "4  2023-02-28  147.050003  149.080002  146.830002  147.410004  146.627335   \n",
       "\n",
       "     Volume  \n",
       "0  51011300  \n",
       "1  48394200  \n",
       "2  55469600  \n",
       "3  44998500  \n",
       "4  50547000  "
      ]
     },
     "execution_count": 1,
     "metadata": {},
     "output_type": "execute_result"
    }
   ],
   "source": [
    "import pandas as pd\n",
    "df = pd.read_csv('C:/Users/yueya/OneDrive - University of Westminster/2023-24/CMF2/AAPL.csv')\n",
    "df.head()"
   ]
  },
  {
   "cell_type": "code",
   "execution_count": 2,
   "id": "723d55e3",
   "metadata": {},
   "outputs": [
    {
     "data": {
      "text/html": [
       "<div>\n",
       "<style scoped>\n",
       "    .dataframe tbody tr th:only-of-type {\n",
       "        vertical-align: middle;\n",
       "    }\n",
       "\n",
       "    .dataframe tbody tr th {\n",
       "        vertical-align: top;\n",
       "    }\n",
       "\n",
       "    .dataframe thead th {\n",
       "        text-align: right;\n",
       "    }\n",
       "</style>\n",
       "<table border=\"1\" class=\"dataframe\">\n",
       "  <thead>\n",
       "    <tr style=\"text-align: right;\">\n",
       "      <th></th>\n",
       "      <th>Date</th>\n",
       "      <th>Open</th>\n",
       "      <th>High</th>\n",
       "      <th>Low</th>\n",
       "      <th>Close</th>\n",
       "      <th>Adj Close</th>\n",
       "      <th>Volume</th>\n",
       "    </tr>\n",
       "  </thead>\n",
       "  <tbody>\n",
       "    <tr>\n",
       "      <th>246</th>\n",
       "      <td>2024-02-14</td>\n",
       "      <td>185.320007</td>\n",
       "      <td>185.529999</td>\n",
       "      <td>182.440002</td>\n",
       "      <td>184.149994</td>\n",
       "      <td>184.149994</td>\n",
       "      <td>54630500</td>\n",
       "    </tr>\n",
       "    <tr>\n",
       "      <th>247</th>\n",
       "      <td>2024-02-15</td>\n",
       "      <td>183.550003</td>\n",
       "      <td>184.490005</td>\n",
       "      <td>181.350006</td>\n",
       "      <td>183.860001</td>\n",
       "      <td>183.860001</td>\n",
       "      <td>65434500</td>\n",
       "    </tr>\n",
       "    <tr>\n",
       "      <th>248</th>\n",
       "      <td>2024-02-16</td>\n",
       "      <td>183.419998</td>\n",
       "      <td>184.850006</td>\n",
       "      <td>181.669998</td>\n",
       "      <td>182.309998</td>\n",
       "      <td>182.309998</td>\n",
       "      <td>49701400</td>\n",
       "    </tr>\n",
       "    <tr>\n",
       "      <th>249</th>\n",
       "      <td>2024-02-20</td>\n",
       "      <td>181.789993</td>\n",
       "      <td>182.429993</td>\n",
       "      <td>180.000000</td>\n",
       "      <td>181.559998</td>\n",
       "      <td>181.559998</td>\n",
       "      <td>53665600</td>\n",
       "    </tr>\n",
       "    <tr>\n",
       "      <th>250</th>\n",
       "      <td>2024-02-21</td>\n",
       "      <td>181.940002</td>\n",
       "      <td>182.889999</td>\n",
       "      <td>180.660004</td>\n",
       "      <td>182.320007</td>\n",
       "      <td>182.320007</td>\n",
       "      <td>41371400</td>\n",
       "    </tr>\n",
       "  </tbody>\n",
       "</table>\n",
       "</div>"
      ],
      "text/plain": [
       "           Date        Open        High         Low       Close   Adj Close  \\\n",
       "246  2024-02-14  185.320007  185.529999  182.440002  184.149994  184.149994   \n",
       "247  2024-02-15  183.550003  184.490005  181.350006  183.860001  183.860001   \n",
       "248  2024-02-16  183.419998  184.850006  181.669998  182.309998  182.309998   \n",
       "249  2024-02-20  181.789993  182.429993  180.000000  181.559998  181.559998   \n",
       "250  2024-02-21  181.940002  182.889999  180.660004  182.320007  182.320007   \n",
       "\n",
       "       Volume  \n",
       "246  54630500  \n",
       "247  65434500  \n",
       "248  49701400  \n",
       "249  53665600  \n",
       "250  41371400  "
      ]
     },
     "execution_count": 2,
     "metadata": {},
     "output_type": "execute_result"
    }
   ],
   "source": [
    "df.tail()"
   ]
  },
  {
   "cell_type": "markdown",
   "id": "68219042",
   "metadata": {},
   "source": [
    "# Question 2"
   ]
  },
  {
   "cell_type": "code",
   "execution_count": 3,
   "id": "6a056514",
   "metadata": {},
   "outputs": [
    {
     "ename": "NameError",
     "evalue": "name 'c' is not defined",
     "output_type": "error",
     "traceback": [
      "\u001b[1;31m---------------------------------------------------------------------------\u001b[0m",
      "\u001b[1;31mNameError\u001b[0m                                 Traceback (most recent call last)",
      "Cell \u001b[1;32mIn[3], line 8\u001b[0m\n\u001b[0;32m      6\u001b[0m     x \u001b[38;5;241m=\u001b[39m (adjclose_today \u001b[38;5;241m-\u001b[39m adjclose_yesterday) \u001b[38;5;241m/\u001b[39m adjclose_yesterday\n\u001b[0;32m      7\u001b[0m     normal_return\u001b[38;5;241m.\u001b[39mappend(x)\n\u001b[1;32m----> 8\u001b[0m c[:\u001b[38;5;241m5\u001b[39m]\n",
      "\u001b[1;31mNameError\u001b[0m: name 'c' is not defined"
     ]
    }
   ],
   "source": [
    "import numpy as np\n",
    "normal_return = []\n",
    "for i in range(0,len(df)-1):\n",
    "    adjclose_yesterday = df.iloc[i]['Adj Close']\n",
    "    adjclose_today = df.iloc[i+1]['Adj Close']\n",
    "    x = (adjclose_today - adjclose_yesterday) / adjclose_yesterday\n",
    "    normal_return.append(x)\n",
    "c[:5]"
   ]
  },
  {
   "cell_type": "code",
   "execution_count": 4,
   "id": "9b3f98a5",
   "metadata": {},
   "outputs": [
    {
     "data": {
      "text/plain": [
       "[0.0032852610849462317,\n",
       " -0.018169335762508707,\n",
       " 0.008213685084111326,\n",
       " -0.0034538813092613,\n",
       " -0.014348337611787202]"
      ]
     },
     "execution_count": 4,
     "metadata": {},
     "output_type": "execute_result"
    }
   ],
   "source": [
    "log_return = []\n",
    "for i in range(0,len(df)-1):\n",
    "    adjclose_yesterday = df.iloc[i]['Adj Close']\n",
    "    adjclose_today = df.iloc[i+1]['Adj Close']\n",
    "    y = np.log(adjclose_today / adjclose_yesterday)\n",
    "    log_return.append(y)\n",
    "log_return[:5]"
   ]
  },
  {
   "cell_type": "code",
   "execution_count": 5,
   "id": "4c292e51",
   "metadata": {},
   "outputs": [
    {
     "name": "stdout",
     "output_type": "stream",
     "text": [
      "The annulized normal return is 0.22608862 and its annulized volatility is 0.19111558\n"
     ]
    }
   ],
   "source": [
    "#Changing the list variable to numpy array:\n",
    "normal_return=np.array(normal_return)\n",
    "#calculating the mean and standard deviation using numpy:\n",
    "mean_nr = normal_return.mean() * len(normal_return)\n",
    "sd_nr = normal_return.std() * (len(normal_return) ** 0.5)\n",
    "print('The annulized normal return is %.8f and its annulized volatility is %.8f' % (mean_nr,sd_nr))"
   ]
  },
  {
   "cell_type": "code",
   "execution_count": 6,
   "id": "c5e3e1bb",
   "metadata": {},
   "outputs": [
    {
     "name": "stdout",
     "output_type": "stream",
     "text": [
      "The annulized normal return is 0.20774492 and its annulized volatility is 0.19104424\n"
     ]
    }
   ],
   "source": [
    "#Changing the list variable to numpy array:\n",
    "log_return=np.array(log_return)\n",
    "#calculating the mean and standard deviation using numpy:\n",
    "mean_logr = log_return.mean() * len(log_return)\n",
    "sd_logr = log_return.std() * (len(log_return) ** 0.5)\n",
    "print('The annulized normal return is %.8f and its annulized volatility is %.8f' % (mean_logr,sd_logr))"
   ]
  },
  {
   "cell_type": "markdown",
   "id": "6b040355",
   "metadata": {},
   "source": [
    "# Question 3"
   ]
  },
  {
   "cell_type": "code",
   "execution_count": 7,
   "id": "66d899e1",
   "metadata": {},
   "outputs": [
    {
     "data": {
      "text/plain": [
       "Text(0.5, 1.0, 'Closing Price')"
      ]
     },
     "execution_count": 7,
     "metadata": {},
     "output_type": "execute_result"
    },
    {
     "data": {
      "image/png": "[encoded data removed]",
      "text/plain": [
       "<Figure size 640x480 with 1 Axes>"
      ]
     },
     "metadata": {},
     "output_type": "display_data"
    }
   ],
   "source": [
    "import matplotlib.pyplot as plt\n",
    "fig = plt.figure()\n",
    "plt.plot(df['Close']) #choosing the series you want to plot\n",
    "plt.xlabel('Days')\n",
    "plt.ylabel('Price ($)')\n",
    "plt.title('Closing Price')"
   ]
  },
  {
   "cell_type": "markdown",
   "id": "bea6bbdb",
   "metadata": {},
   "source": [
    "# Question 4"
   ]
  },
  {
   "cell_type": "code",
   "execution_count": 8,
   "id": "222463a5",
   "metadata": {},
   "outputs": [
    {
     "data": {
      "text/plain": [
       "Text(0.5, 1.0, 'Log Return')"
      ]
     },
     "execution_count": 8,
     "metadata": {},
     "output_type": "execute_result"
    },
    {
     "data": {
      "image/png": "[encoded data removed]",
      "text/plain": [
       "<Figure size 640x480 with 1 Axes>"
      ]
     },
     "metadata": {},
     "output_type": "display_data"
    }
   ],
   "source": [
    "fig = plt.figure()\n",
    "plt.plot(log_return * 100)\n",
    "plt.xlabel('Days')\n",
    "plt.ylabel('Percentage % ')\n",
    "plt.title('Log Return')"
   ]
  },
  {
   "cell_type": "markdown",
   "id": "eee4c125",
   "metadata": {},
   "source": [
    "# Question 5"
   ]
  },
  {
   "cell_type": "code",
   "execution_count": 9,
   "id": "0b2fd7db",
   "metadata": {},
   "outputs": [
    {
     "data": {
      "text/html": [
       "<div>\n",
       "<style scoped>\n",
       "    .dataframe tbody tr th:only-of-type {\n",
       "        vertical-align: middle;\n",
       "    }\n",
       "\n",
       "    .dataframe tbody tr th {\n",
       "        vertical-align: top;\n",
       "    }\n",
       "\n",
       "    .dataframe thead th {\n",
       "        text-align: right;\n",
       "    }\n",
       "</style>\n",
       "<table border=\"1\" class=\"dataframe\">\n",
       "  <thead>\n",
       "    <tr style=\"text-align: right;\">\n",
       "      <th></th>\n",
       "      <th>Date</th>\n",
       "      <th>Open</th>\n",
       "      <th>High</th>\n",
       "      <th>Low</th>\n",
       "      <th>Close</th>\n",
       "      <th>Adj Close</th>\n",
       "      <th>Volume</th>\n",
       "    </tr>\n",
       "  </thead>\n",
       "  <tbody>\n",
       "    <tr>\n",
       "      <th>0</th>\n",
       "      <td>2022-10-19</td>\n",
       "      <td>219.800003</td>\n",
       "      <td>222.929993</td>\n",
       "      <td>217.779999</td>\n",
       "      <td>222.039993</td>\n",
       "      <td>222.039993</td>\n",
       "      <td>66571500</td>\n",
       "    </tr>\n",
       "    <tr>\n",
       "      <th>1</th>\n",
       "      <td>2022-10-20</td>\n",
       "      <td>208.279999</td>\n",
       "      <td>215.550003</td>\n",
       "      <td>202.000000</td>\n",
       "      <td>207.279999</td>\n",
       "      <td>207.279999</td>\n",
       "      <td>117798100</td>\n",
       "    </tr>\n",
       "    <tr>\n",
       "      <th>2</th>\n",
       "      <td>2022-10-21</td>\n",
       "      <td>206.419998</td>\n",
       "      <td>214.660004</td>\n",
       "      <td>203.800003</td>\n",
       "      <td>214.440002</td>\n",
       "      <td>214.440002</td>\n",
       "      <td>75713800</td>\n",
       "    </tr>\n",
       "    <tr>\n",
       "      <th>3</th>\n",
       "      <td>2022-10-24</td>\n",
       "      <td>205.820007</td>\n",
       "      <td>213.500000</td>\n",
       "      <td>198.589996</td>\n",
       "      <td>211.250000</td>\n",
       "      <td>211.250000</td>\n",
       "      <td>100446800</td>\n",
       "    </tr>\n",
       "    <tr>\n",
       "      <th>4</th>\n",
       "      <td>2022-10-25</td>\n",
       "      <td>210.100006</td>\n",
       "      <td>224.350006</td>\n",
       "      <td>210.000000</td>\n",
       "      <td>222.419998</td>\n",
       "      <td>222.419998</td>\n",
       "      <td>96507900</td>\n",
       "    </tr>\n",
       "  </tbody>\n",
       "</table>\n",
       "</div>"
      ],
      "text/plain": [
       "         Date        Open        High         Low       Close   Adj Close  \\\n",
       "0  2022-10-19  219.800003  222.929993  217.779999  222.039993  222.039993   \n",
       "1  2022-10-20  208.279999  215.550003  202.000000  207.279999  207.279999   \n",
       "2  2022-10-21  206.419998  214.660004  203.800003  214.440002  214.440002   \n",
       "3  2022-10-24  205.820007  213.500000  198.589996  211.250000  211.250000   \n",
       "4  2022-10-25  210.100006  224.350006  210.000000  222.419998  222.419998   \n",
       "\n",
       "      Volume  \n",
       "0   66571500  \n",
       "1  117798100  \n",
       "2   75713800  \n",
       "3  100446800  \n",
       "4   96507900  "
      ]
     },
     "execution_count": 9,
     "metadata": {},
     "output_type": "execute_result"
    }
   ],
   "source": [
    "df1 = pd.read_csv('TSLA.csv')\n",
    "df2=pd.read_csv('AMZN.csv')\n",
    "df3=pd.read_csv('BLK.csv')\n",
    "df1.head()"
   ]
  },
  {
   "cell_type": "code",
   "execution_count": 47,
   "id": "d91cfe96",
   "metadata": {},
   "outputs": [
    {
     "data": {
      "text/plain": [
       "0    222.039993\n",
       "1    207.279999\n",
       "2    214.440002\n",
       "3    211.250000\n",
       "4    222.419998\n",
       "Name: Adj Close, dtype: float64"
      ]
     },
     "execution_count": 47,
     "metadata": {},
     "output_type": "execute_result"
    }
   ],
   "source": [
    "closeP1=df1['Adj Close']\n",
    "closeP2=df2['Adj Close']\n",
    "closeP3=df3['Adj Close']\n",
    "closeP1.head()"
   ]
  },
  {
   "cell_type": "code",
   "execution_count": 49,
   "id": "e66f6502",
   "metadata": {},
   "outputs": [
    {
     "data": {
      "text/plain": [
       "0    222.039993\n",
       "1    207.279999\n",
       "2    214.440002\n",
       "3    211.250000\n",
       "4    222.419998\n",
       "Name: closeP_TSLA, dtype: float64"
      ]
     },
     "execution_count": 49,
     "metadata": {},
     "output_type": "execute_result"
    }
   ],
   "source": [
    "closeP1=closeP1.rename(\"closeP_TSLA\") # you can use either single or double quotes. \n",
    "closeP2=closeP2.rename(\"closeP_AMZN\") #If your string contains a single quote, then you must use double quotes.\n",
    "closeP3=closeP3.rename(\"closeP_BLK\")\n",
    "closeP1.head()"
   ]
  },
  {
   "cell_type": "code",
   "execution_count": 50,
   "id": "c8a5ca3e",
   "metadata": {},
   "outputs": [
    {
     "data": {
      "text/html": [
       "<div>\n",
       "<style scoped>\n",
       "    .dataframe tbody tr th:only-of-type {\n",
       "        vertical-align: middle;\n",
       "    }\n",
       "\n",
       "    .dataframe tbody tr th {\n",
       "        vertical-align: top;\n",
       "    }\n",
       "\n",
       "    .dataframe thead th {\n",
       "        text-align: right;\n",
       "    }\n",
       "</style>\n",
       "<table border=\"1\" class=\"dataframe\">\n",
       "  <thead>\n",
       "    <tr style=\"text-align: right;\">\n",
       "      <th></th>\n",
       "      <th>closeP_TSLA</th>\n",
       "      <th>closeP_AMZN</th>\n",
       "      <th>closeP_BLK</th>\n",
       "    </tr>\n",
       "  </thead>\n",
       "  <tbody>\n",
       "    <tr>\n",
       "      <th>0</th>\n",
       "      <td>222.039993</td>\n",
       "      <td>115.070000</td>\n",
       "      <td>561.581665</td>\n",
       "    </tr>\n",
       "    <tr>\n",
       "      <th>1</th>\n",
       "      <td>207.279999</td>\n",
       "      <td>115.250000</td>\n",
       "      <td>556.198059</td>\n",
       "    </tr>\n",
       "    <tr>\n",
       "      <th>2</th>\n",
       "      <td>214.440002</td>\n",
       "      <td>119.320000</td>\n",
       "      <td>580.395020</td>\n",
       "    </tr>\n",
       "    <tr>\n",
       "      <th>3</th>\n",
       "      <td>211.250000</td>\n",
       "      <td>119.820000</td>\n",
       "      <td>594.174561</td>\n",
       "    </tr>\n",
       "    <tr>\n",
       "      <th>4</th>\n",
       "      <td>222.419998</td>\n",
       "      <td>120.599998</td>\n",
       "      <td>617.982849</td>\n",
       "    </tr>\n",
       "  </tbody>\n",
       "</table>\n",
       "</div>"
      ],
      "text/plain": [
       "   closeP_TSLA  closeP_AMZN  closeP_BLK\n",
       "0   222.039993   115.070000  561.581665\n",
       "1   207.279999   115.250000  556.198059\n",
       "2   214.440002   119.320000  580.395020\n",
       "3   211.250000   119.820000  594.174561\n",
       "4   222.419998   120.599998  617.982849"
      ]
     },
     "execution_count": 50,
     "metadata": {},
     "output_type": "execute_result"
    }
   ],
   "source": [
    "df_all=pd.concat([closeP1, closeP2, closeP3], axis=1)\n",
    "df_all.head()"
   ]
  },
  {
   "cell_type": "code",
   "execution_count": 52,
   "id": "f31a678d",
   "metadata": {},
   "outputs": [
    {
     "data": {
      "text/html": [
       "<div>\n",
       "<style scoped>\n",
       "    .dataframe tbody tr th:only-of-type {\n",
       "        vertical-align: middle;\n",
       "    }\n",
       "\n",
       "    .dataframe tbody tr th {\n",
       "        vertical-align: top;\n",
       "    }\n",
       "\n",
       "    .dataframe thead th {\n",
       "        text-align: right;\n",
       "    }\n",
       "</style>\n",
       "<table border=\"1\" class=\"dataframe\">\n",
       "  <thead>\n",
       "    <tr style=\"text-align: right;\">\n",
       "      <th></th>\n",
       "      <th>closeP_TSLA</th>\n",
       "      <th>closeP_AMZN</th>\n",
       "      <th>closeP_BLK</th>\n",
       "    </tr>\n",
       "  </thead>\n",
       "  <tbody>\n",
       "    <tr>\n",
       "      <th>0</th>\n",
       "      <td>1.686928</td>\n",
       "      <td>1.557205</td>\n",
       "      <td>1.845420</td>\n",
       "    </tr>\n",
       "    <tr>\n",
       "      <th>1</th>\n",
       "      <td>1.674115</td>\n",
       "      <td>1.557535</td>\n",
       "      <td>1.843897</td>\n",
       "    </tr>\n",
       "    <tr>\n",
       "      <th>2</th>\n",
       "      <td>1.680461</td>\n",
       "      <td>1.564819</td>\n",
       "      <td>1.850611</td>\n",
       "    </tr>\n",
       "    <tr>\n",
       "      <th>3</th>\n",
       "      <td>1.677665</td>\n",
       "      <td>1.565693</td>\n",
       "      <td>1.854292</td>\n",
       "    </tr>\n",
       "    <tr>\n",
       "      <th>4</th>\n",
       "      <td>1.687244</td>\n",
       "      <td>1.567048</td>\n",
       "      <td>1.860424</td>\n",
       "    </tr>\n",
       "  </tbody>\n",
       "</table>\n",
       "</div>"
      ],
      "text/plain": [
       "   closeP_TSLA  closeP_AMZN  closeP_BLK\n",
       "0     1.686928     1.557205    1.845420\n",
       "1     1.674115     1.557535    1.843897\n",
       "2     1.680461     1.564819    1.850611\n",
       "3     1.677665     1.565693    1.854292\n",
       "4     1.687244     1.567048    1.860424"
      ]
     },
     "execution_count": 52,
     "metadata": {},
     "output_type": "execute_result"
    }
   ],
   "source": [
    "df_all=np.log(df_all)\n",
    "df_all.head()"
   ]
  },
  {
   "cell_type": "code",
   "execution_count": 57,
   "id": "470b433c",
   "metadata": {},
   "outputs": [
    {
     "data": {
      "text/html": [
       "<div>\n",
       "<style scoped>\n",
       "    .dataframe tbody tr th:only-of-type {\n",
       "        vertical-align: middle;\n",
       "    }\n",
       "\n",
       "    .dataframe tbody tr th {\n",
       "        vertical-align: top;\n",
       "    }\n",
       "\n",
       "    .dataframe thead th {\n",
       "        text-align: right;\n",
       "    }\n",
       "</style>\n",
       "<table border=\"1\" class=\"dataframe\">\n",
       "  <thead>\n",
       "    <tr style=\"text-align: right;\">\n",
       "      <th></th>\n",
       "      <th>closeP_TSLA</th>\n",
       "      <th>closeP_AMZN</th>\n",
       "      <th>closeP_BLK</th>\n",
       "      <th>logR_TSLA</th>\n",
       "      <th>logR_AMZN</th>\n",
       "      <th>logR_BLK</th>\n",
       "    </tr>\n",
       "  </thead>\n",
       "  <tbody>\n",
       "    <tr>\n",
       "      <th>0</th>\n",
       "      <td>1.686928</td>\n",
       "      <td>1.557205</td>\n",
       "      <td>1.845420</td>\n",
       "      <td>NaN</td>\n",
       "      <td>NaN</td>\n",
       "      <td>NaN</td>\n",
       "    </tr>\n",
       "    <tr>\n",
       "      <th>1</th>\n",
       "      <td>1.674115</td>\n",
       "      <td>1.557535</td>\n",
       "      <td>1.843897</td>\n",
       "      <td>-0.012813</td>\n",
       "      <td>0.000329</td>\n",
       "      <td>-0.001523</td>\n",
       "    </tr>\n",
       "    <tr>\n",
       "      <th>2</th>\n",
       "      <td>1.680461</td>\n",
       "      <td>1.564819</td>\n",
       "      <td>1.850611</td>\n",
       "      <td>0.006346</td>\n",
       "      <td>0.007284</td>\n",
       "      <td>0.006714</td>\n",
       "    </tr>\n",
       "    <tr>\n",
       "      <th>3</th>\n",
       "      <td>1.677665</td>\n",
       "      <td>1.565693</td>\n",
       "      <td>1.854292</td>\n",
       "      <td>-0.002796</td>\n",
       "      <td>0.000874</td>\n",
       "      <td>0.003680</td>\n",
       "    </tr>\n",
       "    <tr>\n",
       "      <th>4</th>\n",
       "      <td>1.687244</td>\n",
       "      <td>1.567048</td>\n",
       "      <td>1.860424</td>\n",
       "      <td>0.009579</td>\n",
       "      <td>0.001355</td>\n",
       "      <td>0.006132</td>\n",
       "    </tr>\n",
       "  </tbody>\n",
       "</table>\n",
       "</div>"
      ],
      "text/plain": [
       "   closeP_TSLA  closeP_AMZN  closeP_BLK  logR_TSLA  logR_AMZN  logR_BLK\n",
       "0     1.686928     1.557205    1.845420        NaN        NaN       NaN\n",
       "1     1.674115     1.557535    1.843897  -0.012813   0.000329 -0.001523\n",
       "2     1.680461     1.564819    1.850611   0.006346   0.007284  0.006714\n",
       "3     1.677665     1.565693    1.854292  -0.002796   0.000874  0.003680\n",
       "4     1.687244     1.567048    1.860424   0.009579   0.001355  0.006132"
      ]
     },
     "execution_count": 57,
     "metadata": {},
     "output_type": "execute_result"
    }
   ],
   "source": [
    "df_all[\"logR_TSLA\"]=df_all[\"closeP_TSLA\"]-df_all[\"closeP_TSLA\"].shift(periods=1)\n",
    "df_all[\"logR_AMZN\"]=df_all[\"closeP_AMZN\"]-df_all[\"closeP_AMZN\"].shift(periods=1)\n",
    "df_all[\"logR_BLK\"]=df_all[\"closeP_BLK\"]-df_all[\"closeP_BLK\"].shift(periods=1)\n",
    "df_all.head()"
   ]
  },
  {
   "cell_type": "code",
   "execution_count": 58,
   "id": "a332d7fe",
   "metadata": {},
   "outputs": [
    {
     "data": {
      "text/html": [
       "<div>\n",
       "<style scoped>\n",
       "    .dataframe tbody tr th:only-of-type {\n",
       "        vertical-align: middle;\n",
       "    }\n",
       "\n",
       "    .dataframe tbody tr th {\n",
       "        vertical-align: top;\n",
       "    }\n",
       "\n",
       "    .dataframe thead th {\n",
       "        text-align: right;\n",
       "    }\n",
       "</style>\n",
       "<table border=\"1\" class=\"dataframe\">\n",
       "  <thead>\n",
       "    <tr style=\"text-align: right;\">\n",
       "      <th></th>\n",
       "      <th>closeP_TSLA</th>\n",
       "      <th>closeP_AMZN</th>\n",
       "      <th>closeP_BLK</th>\n",
       "      <th>logR_TSLA</th>\n",
       "      <th>logR_AMZN</th>\n",
       "      <th>logR_BLK</th>\n",
       "      <th>diff_TSLA_BLK</th>\n",
       "      <th>diff_AMZN_BLK</th>\n",
       "    </tr>\n",
       "  </thead>\n",
       "  <tbody>\n",
       "    <tr>\n",
       "      <th>0</th>\n",
       "      <td>1.686928</td>\n",
       "      <td>1.557205</td>\n",
       "      <td>1.845420</td>\n",
       "      <td>NaN</td>\n",
       "      <td>NaN</td>\n",
       "      <td>NaN</td>\n",
       "      <td>NaN</td>\n",
       "      <td>NaN</td>\n",
       "    </tr>\n",
       "    <tr>\n",
       "      <th>1</th>\n",
       "      <td>1.674115</td>\n",
       "      <td>1.557535</td>\n",
       "      <td>1.843897</td>\n",
       "      <td>-0.012813</td>\n",
       "      <td>0.000329</td>\n",
       "      <td>-0.001523</td>\n",
       "      <td>-0.011291</td>\n",
       "      <td>0.001852</td>\n",
       "    </tr>\n",
       "    <tr>\n",
       "      <th>2</th>\n",
       "      <td>1.680461</td>\n",
       "      <td>1.564819</td>\n",
       "      <td>1.850611</td>\n",
       "      <td>0.006346</td>\n",
       "      <td>0.007284</td>\n",
       "      <td>0.006714</td>\n",
       "      <td>-0.000368</td>\n",
       "      <td>0.000570</td>\n",
       "    </tr>\n",
       "    <tr>\n",
       "      <th>3</th>\n",
       "      <td>1.677665</td>\n",
       "      <td>1.565693</td>\n",
       "      <td>1.854292</td>\n",
       "      <td>-0.002796</td>\n",
       "      <td>0.000874</td>\n",
       "      <td>0.003680</td>\n",
       "      <td>-0.006476</td>\n",
       "      <td>-0.002806</td>\n",
       "    </tr>\n",
       "    <tr>\n",
       "      <th>4</th>\n",
       "      <td>1.687244</td>\n",
       "      <td>1.567048</td>\n",
       "      <td>1.860424</td>\n",
       "      <td>0.009579</td>\n",
       "      <td>0.001355</td>\n",
       "      <td>0.006132</td>\n",
       "      <td>0.003447</td>\n",
       "      <td>-0.004777</td>\n",
       "    </tr>\n",
       "  </tbody>\n",
       "</table>\n",
       "</div>"
      ],
      "text/plain": [
       "   closeP_TSLA  closeP_AMZN  closeP_BLK  logR_TSLA  logR_AMZN  logR_BLK  \\\n",
       "0     1.686928     1.557205    1.845420        NaN        NaN       NaN   \n",
       "1     1.674115     1.557535    1.843897  -0.012813   0.000329 -0.001523   \n",
       "2     1.680461     1.564819    1.850611   0.006346   0.007284  0.006714   \n",
       "3     1.677665     1.565693    1.854292  -0.002796   0.000874  0.003680   \n",
       "4     1.687244     1.567048    1.860424   0.009579   0.001355  0.006132   \n",
       "\n",
       "   diff_TSLA_BLK  diff_AMZN_BLK  \n",
       "0            NaN            NaN  \n",
       "1      -0.011291       0.001852  \n",
       "2      -0.000368       0.000570  \n",
       "3      -0.006476      -0.002806  \n",
       "4       0.003447      -0.004777  "
      ]
     },
     "execution_count": 58,
     "metadata": {},
     "output_type": "execute_result"
    }
   ],
   "source": [
    "df_all[\"diff_TSLA_BLK\"]=df_all[\"logR_TSLA\"]-df_all[\"logR_BLK\"]\n",
    "df_all[\"diff_AMZN_BLK\"]=df_all[\"logR_AMZN\"]-df_all[\"logR_BLK\"]\n",
    "df_all.head()"
   ]
  },
  {
   "cell_type": "code",
   "execution_count": 64,
   "id": "85cdd63a",
   "metadata": {},
   "outputs": [
    {
     "data": {
      "text/plain": [
       "diff_TSLA_BLK    0.000007\n",
       "diff_AMZN_BLK    0.000031\n",
       "dtype: float64"
      ]
     },
     "execution_count": 64,
     "metadata": {},
     "output_type": "execute_result"
    }
   ],
   "source": [
    "df_all.iloc[:,6:].mean()"
   ]
  },
  {
   "cell_type": "markdown",
   "id": "3bca3d3f",
   "metadata": {},
   "source": [
    "# Question 6"
   ]
  },
  {
   "cell_type": "code",
   "execution_count": 2,
   "id": "36c8e300",
   "metadata": {},
   "outputs": [
    {
     "name": "stderr",
     "output_type": "stream",
     "text": [
      "C:\\Users\\yueya\\AppData\\Roaming\\Python\\Python311\\site-packages\\pandas\\core\\arrays\\masked.py:60: UserWarning: Pandas requires version '1.3.6' or newer of 'bottleneck' (version '1.3.5' currently installed).\n",
      "  from pandas.core import (\n",
      "[*********************100%%**********************]  2 of 2 completed\n"
     ]
    }
   ],
   "source": [
    "import yfinance as yf\n",
    "data = yf.download(\"AMZN TSLA\", start=\"2023-10-21\", end=\"2024-10-20\")"
   ]
  },
  {
   "cell_type": "code",
   "execution_count": 3,
   "id": "2915d284",
   "metadata": {},
   "outputs": [
    {
     "data": {
      "text/html": [
       "<div>\n",
       "<style scoped>\n",
       "    .dataframe tbody tr th:only-of-type {\n",
       "        vertical-align: middle;\n",
       "    }\n",
       "\n",
       "    .dataframe tbody tr th {\n",
       "        vertical-align: top;\n",
       "    }\n",
       "\n",
       "    .dataframe thead tr th {\n",
       "        text-align: left;\n",
       "    }\n",
       "\n",
       "    .dataframe thead tr:last-of-type th {\n",
       "        text-align: right;\n",
       "    }\n",
       "</style>\n",
       "<table border=\"1\" class=\"dataframe\">\n",
       "  <thead>\n",
       "    <tr>\n",
       "      <th>Price</th>\n",
       "      <th colspan=\"2\" halign=\"left\">Adj Close</th>\n",
       "      <th colspan=\"2\" halign=\"left\">Close</th>\n",
       "      <th colspan=\"2\" halign=\"left\">High</th>\n",
       "      <th colspan=\"2\" halign=\"left\">Low</th>\n",
       "      <th colspan=\"2\" halign=\"left\">Open</th>\n",
       "      <th colspan=\"2\" halign=\"left\">Volume</th>\n",
       "    </tr>\n",
       "    <tr>\n",
       "      <th>Ticker</th>\n",
       "      <th>AMZN</th>\n",
       "      <th>TSLA</th>\n",
       "      <th>AMZN</th>\n",
       "      <th>TSLA</th>\n",
       "      <th>AMZN</th>\n",
       "      <th>TSLA</th>\n",
       "      <th>AMZN</th>\n",
       "      <th>TSLA</th>\n",
       "      <th>AMZN</th>\n",
       "      <th>TSLA</th>\n",
       "      <th>AMZN</th>\n",
       "      <th>TSLA</th>\n",
       "    </tr>\n",
       "    <tr>\n",
       "      <th>Date</th>\n",
       "      <th></th>\n",
       "      <th></th>\n",
       "      <th></th>\n",
       "      <th></th>\n",
       "      <th></th>\n",
       "      <th></th>\n",
       "      <th></th>\n",
       "      <th></th>\n",
       "      <th></th>\n",
       "      <th></th>\n",
       "      <th></th>\n",
       "      <th></th>\n",
       "    </tr>\n",
       "  </thead>\n",
       "  <tbody>\n",
       "    <tr>\n",
       "      <th>2024-09-16</th>\n",
       "      <td>184.889999</td>\n",
       "      <td>226.779999</td>\n",
       "      <td>184.889999</td>\n",
       "      <td>226.779999</td>\n",
       "      <td>185.809998</td>\n",
       "      <td>229.960007</td>\n",
       "      <td>183.360001</td>\n",
       "      <td>223.529999</td>\n",
       "      <td>185.289993</td>\n",
       "      <td>229.300003</td>\n",
       "      <td>26065500</td>\n",
       "      <td>54323000</td>\n",
       "    </tr>\n",
       "    <tr>\n",
       "      <th>2024-09-17</th>\n",
       "      <td>186.880005</td>\n",
       "      <td>227.869995</td>\n",
       "      <td>186.880005</td>\n",
       "      <td>227.869995</td>\n",
       "      <td>189.449997</td>\n",
       "      <td>234.570007</td>\n",
       "      <td>186.139999</td>\n",
       "      <td>226.550003</td>\n",
       "      <td>186.850006</td>\n",
       "      <td>229.449997</td>\n",
       "      <td>26091700</td>\n",
       "      <td>66761600</td>\n",
       "    </tr>\n",
       "    <tr>\n",
       "      <th>2024-09-18</th>\n",
       "      <td>186.429993</td>\n",
       "      <td>227.199997</td>\n",
       "      <td>186.429993</td>\n",
       "      <td>227.199997</td>\n",
       "      <td>188.800003</td>\n",
       "      <td>235.679993</td>\n",
       "      <td>185.059998</td>\n",
       "      <td>226.880005</td>\n",
       "      <td>186.449997</td>\n",
       "      <td>230.089996</td>\n",
       "      <td>34448100</td>\n",
       "      <td>78010200</td>\n",
       "    </tr>\n",
       "    <tr>\n",
       "      <th>2024-09-19</th>\n",
       "      <td>189.869995</td>\n",
       "      <td>243.919998</td>\n",
       "      <td>189.869995</td>\n",
       "      <td>243.919998</td>\n",
       "      <td>190.990005</td>\n",
       "      <td>244.240005</td>\n",
       "      <td>188.470001</td>\n",
       "      <td>232.130005</td>\n",
       "      <td>190.039993</td>\n",
       "      <td>234.000000</td>\n",
       "      <td>39543200</td>\n",
       "      <td>102694600</td>\n",
       "    </tr>\n",
       "    <tr>\n",
       "      <th>2024-09-20</th>\n",
       "      <td>191.600006</td>\n",
       "      <td>238.250000</td>\n",
       "      <td>191.600006</td>\n",
       "      <td>238.250000</td>\n",
       "      <td>191.839996</td>\n",
       "      <td>243.990005</td>\n",
       "      <td>187.410004</td>\n",
       "      <td>235.919998</td>\n",
       "      <td>190.229996</td>\n",
       "      <td>241.520004</td>\n",
       "      <td>100337500</td>\n",
       "      <td>99760300</td>\n",
       "    </tr>\n",
       "  </tbody>\n",
       "</table>\n",
       "</div>"
      ],
      "text/plain": [
       "Price        Adj Close                   Close                    High  \\\n",
       "Ticker            AMZN        TSLA        AMZN        TSLA        AMZN   \n",
       "Date                                                                     \n",
       "2024-09-16  184.889999  226.779999  184.889999  226.779999  185.809998   \n",
       "2024-09-17  186.880005  227.869995  186.880005  227.869995  189.449997   \n",
       "2024-09-18  186.429993  227.199997  186.429993  227.199997  188.800003   \n",
       "2024-09-19  189.869995  243.919998  189.869995  243.919998  190.990005   \n",
       "2024-09-20  191.600006  238.250000  191.600006  238.250000  191.839996   \n",
       "\n",
       "Price                          Low                    Open              \\\n",
       "Ticker            TSLA        AMZN        TSLA        AMZN        TSLA   \n",
       "Date                                                                     \n",
       "2024-09-16  229.960007  183.360001  223.529999  185.289993  229.300003   \n",
       "2024-09-17  234.570007  186.139999  226.550003  186.850006  229.449997   \n",
       "2024-09-18  235.679993  185.059998  226.880005  186.449997  230.089996   \n",
       "2024-09-19  244.240005  188.470001  232.130005  190.039993  234.000000   \n",
       "2024-09-20  243.990005  187.410004  235.919998  190.229996  241.520004   \n",
       "\n",
       "Price          Volume             \n",
       "Ticker           AMZN       TSLA  \n",
       "Date                              \n",
       "2024-09-16   26065500   54323000  \n",
       "2024-09-17   26091700   66761600  \n",
       "2024-09-18   34448100   78010200  \n",
       "2024-09-19   39543200  102694600  \n",
       "2024-09-20  100337500   99760300  "
      ]
     },
     "execution_count": 3,
     "metadata": {},
     "output_type": "execute_result"
    }
   ],
   "source": [
    "data.tail()"
   ]
  }
 ],
 "metadata": {
  "kernelspec": {
   "display_name": "Python 3 (ipykernel)",
   "language": "python",
   "name": "python3"
  },
  "language_info": {
   "codemirror_mode": {
    "name": "ipython",
    "version": 3
   },
   "file_extension": ".py",
   "mimetype": "text/x-python",
   "name": "python",
   "nbconvert_exporter": "python",
   "pygments_lexer": "ipython3",
   "version": "3.11.4"
  }
 },
 "nbformat": 4,
 "nbformat_minor": 5
}
