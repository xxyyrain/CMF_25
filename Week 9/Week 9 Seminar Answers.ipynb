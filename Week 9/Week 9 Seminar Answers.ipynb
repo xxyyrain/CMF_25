{
 "cells": [
  {
   "cell_type": "markdown",
   "metadata": {},
   "source": [
    "# Week 8 Seminar Answers"
   ]
  },
  {
   "cell_type": "code",
   "execution_count": 1,
   "metadata": {},
   "outputs": [],
   "source": [
    "import numpy as np\n",
    "import pandas as pd\n",
    "import matplotlib.pyplot as plt\n",
    "import scipy.stats as si\n",
    "import yfinance as yf\n",
    "import os"
   ]
  },
  {
   "cell_type": "markdown",
   "metadata": {},
   "source": [
    "## Question 1"
   ]
  },
  {
   "cell_type": "code",
   "execution_count": 2,
   "metadata": {},
   "outputs": [
    {
     "name": "stderr",
     "output_type": "stream",
     "text": [
      "[*********************100%%**********************]  1 of 1 completed\n"
     ]
    }
   ],
   "source": [
    "data = yf.download('SPY', start='2023-03-14', end='2024-03-14')"
   ]
  },
  {
   "cell_type": "code",
   "execution_count": 3,
   "metadata": {},
   "outputs": [
    {
     "data": {
      "text/html": [
       "<div>\n",
       "<style scoped>\n",
       "    .dataframe tbody tr th:only-of-type {\n",
       "        vertical-align: middle;\n",
       "    }\n",
       "\n",
       "    .dataframe tbody tr th {\n",
       "        vertical-align: top;\n",
       "    }\n",
       "\n",
       "    .dataframe thead th {\n",
       "        text-align: right;\n",
       "    }\n",
       "</style>\n",
       "<table border=\"1\" class=\"dataframe\">\n",
       "  <thead>\n",
       "    <tr style=\"text-align: right;\">\n",
       "      <th></th>\n",
       "      <th>Open</th>\n",
       "      <th>High</th>\n",
       "      <th>Low</th>\n",
       "      <th>Close</th>\n",
       "      <th>Adj Close</th>\n",
       "      <th>Volume</th>\n",
       "    </tr>\n",
       "    <tr>\n",
       "      <th>Date</th>\n",
       "      <th></th>\n",
       "      <th></th>\n",
       "      <th></th>\n",
       "      <th></th>\n",
       "      <th></th>\n",
       "      <th></th>\n",
       "    </tr>\n",
       "  </thead>\n",
       "  <tbody>\n",
       "    <tr>\n",
       "      <th>2023-03-14</th>\n",
       "      <td>390.500000</td>\n",
       "      <td>393.450012</td>\n",
       "      <td>387.049988</td>\n",
       "      <td>391.730011</td>\n",
       "      <td>385.865387</td>\n",
       "      <td>149752400</td>\n",
       "    </tr>\n",
       "    <tr>\n",
       "      <th>2023-03-15</th>\n",
       "      <td>385.890015</td>\n",
       "      <td>389.489990</td>\n",
       "      <td>383.709991</td>\n",
       "      <td>389.279999</td>\n",
       "      <td>383.452057</td>\n",
       "      <td>172996900</td>\n",
       "    </tr>\n",
       "    <tr>\n",
       "      <th>2023-03-16</th>\n",
       "      <td>386.820007</td>\n",
       "      <td>396.470001</td>\n",
       "      <td>386.290009</td>\n",
       "      <td>396.109985</td>\n",
       "      <td>390.179749</td>\n",
       "      <td>143254200</td>\n",
       "    </tr>\n",
       "    <tr>\n",
       "      <th>2023-03-17</th>\n",
       "      <td>393.220001</td>\n",
       "      <td>394.399994</td>\n",
       "      <td>388.549988</td>\n",
       "      <td>389.989990</td>\n",
       "      <td>385.617523</td>\n",
       "      <td>140553400</td>\n",
       "    </tr>\n",
       "    <tr>\n",
       "      <th>2023-03-20</th>\n",
       "      <td>390.799988</td>\n",
       "      <td>394.170013</td>\n",
       "      <td>390.070007</td>\n",
       "      <td>393.739990</td>\n",
       "      <td>389.325470</td>\n",
       "      <td>93055800</td>\n",
       "    </tr>\n",
       "  </tbody>\n",
       "</table>\n",
       "</div>"
      ],
      "text/plain": [
       "                  Open        High         Low       Close   Adj Close  \\\n",
       "Date                                                                     \n",
       "2023-03-14  390.500000  393.450012  387.049988  391.730011  385.865387   \n",
       "2023-03-15  385.890015  389.489990  383.709991  389.279999  383.452057   \n",
       "2023-03-16  386.820007  396.470001  386.290009  396.109985  390.179749   \n",
       "2023-03-17  393.220001  394.399994  388.549988  389.989990  385.617523   \n",
       "2023-03-20  390.799988  394.170013  390.070007  393.739990  389.325470   \n",
       "\n",
       "               Volume  \n",
       "Date                   \n",
       "2023-03-14  149752400  \n",
       "2023-03-15  172996900  \n",
       "2023-03-16  143254200  \n",
       "2023-03-17  140553400  \n",
       "2023-03-20   93055800  "
      ]
     },
     "execution_count": 3,
     "metadata": {},
     "output_type": "execute_result"
    }
   ],
   "source": [
    "data.head()"
   ]
  },
  {
   "cell_type": "code",
   "execution_count": 4,
   "metadata": {},
   "outputs": [
    {
     "data": {
      "text/html": [
       "<div>\n",
       "<style scoped>\n",
       "    .dataframe tbody tr th:only-of-type {\n",
       "        vertical-align: middle;\n",
       "    }\n",
       "\n",
       "    .dataframe tbody tr th {\n",
       "        vertical-align: top;\n",
       "    }\n",
       "\n",
       "    .dataframe thead th {\n",
       "        text-align: right;\n",
       "    }\n",
       "</style>\n",
       "<table border=\"1\" class=\"dataframe\">\n",
       "  <thead>\n",
       "    <tr style=\"text-align: right;\">\n",
       "      <th></th>\n",
       "      <th>Open</th>\n",
       "      <th>High</th>\n",
       "      <th>Low</th>\n",
       "      <th>Close</th>\n",
       "      <th>Adj Close</th>\n",
       "      <th>Volume</th>\n",
       "    </tr>\n",
       "    <tr>\n",
       "      <th>Date</th>\n",
       "      <th></th>\n",
       "      <th></th>\n",
       "      <th></th>\n",
       "      <th></th>\n",
       "      <th></th>\n",
       "      <th></th>\n",
       "    </tr>\n",
       "  </thead>\n",
       "  <tbody>\n",
       "    <tr>\n",
       "      <th>2024-03-07</th>\n",
       "      <td>513.140015</td>\n",
       "      <td>515.890015</td>\n",
       "      <td>509.809998</td>\n",
       "      <td>514.809998</td>\n",
       "      <td>514.809998</td>\n",
       "      <td>58652100</td>\n",
       "    </tr>\n",
       "    <tr>\n",
       "      <th>2024-03-08</th>\n",
       "      <td>515.460022</td>\n",
       "      <td>518.219971</td>\n",
       "      <td>511.130005</td>\n",
       "      <td>511.720001</td>\n",
       "      <td>511.720001</td>\n",
       "      <td>86425500</td>\n",
       "    </tr>\n",
       "    <tr>\n",
       "      <th>2024-03-11</th>\n",
       "      <td>510.480011</td>\n",
       "      <td>511.880005</td>\n",
       "      <td>508.500000</td>\n",
       "      <td>511.279999</td>\n",
       "      <td>511.279999</td>\n",
       "      <td>62557200</td>\n",
       "    </tr>\n",
       "    <tr>\n",
       "      <th>2024-03-12</th>\n",
       "      <td>513.450012</td>\n",
       "      <td>517.380005</td>\n",
       "      <td>510.859985</td>\n",
       "      <td>516.780029</td>\n",
       "      <td>516.780029</td>\n",
       "      <td>73114400</td>\n",
       "    </tr>\n",
       "    <tr>\n",
       "      <th>2024-03-13</th>\n",
       "      <td>517.109985</td>\n",
       "      <td>517.289978</td>\n",
       "      <td>514.489990</td>\n",
       "      <td>515.969971</td>\n",
       "      <td>515.969971</td>\n",
       "      <td>55104100</td>\n",
       "    </tr>\n",
       "  </tbody>\n",
       "</table>\n",
       "</div>"
      ],
      "text/plain": [
       "                  Open        High         Low       Close   Adj Close  \\\n",
       "Date                                                                     \n",
       "2024-03-07  513.140015  515.890015  509.809998  514.809998  514.809998   \n",
       "2024-03-08  515.460022  518.219971  511.130005  511.720001  511.720001   \n",
       "2024-03-11  510.480011  511.880005  508.500000  511.279999  511.279999   \n",
       "2024-03-12  513.450012  517.380005  510.859985  516.780029  516.780029   \n",
       "2024-03-13  517.109985  517.289978  514.489990  515.969971  515.969971   \n",
       "\n",
       "              Volume  \n",
       "Date                  \n",
       "2024-03-07  58652100  \n",
       "2024-03-08  86425500  \n",
       "2024-03-11  62557200  \n",
       "2024-03-12  73114400  \n",
       "2024-03-13  55104100  "
      ]
     },
     "execution_count": 4,
     "metadata": {},
     "output_type": "execute_result"
    }
   ],
   "source": [
    "data.tail()"
   ]
  },
  {
   "cell_type": "code",
   "execution_count": 5,
   "metadata": {},
   "outputs": [
    {
     "name": "stdout",
     "output_type": "stream",
     "text": [
      "The spot price is 515.97\n"
     ]
    }
   ],
   "source": [
    "S = data['Adj Close'][-1]\n",
    "print('The spot price is', round(S,2))"
   ]
  },
  {
   "cell_type": "markdown",
   "metadata": {},
   "source": [
    "## Question 2 "
   ]
  },
  {
   "cell_type": "markdown",
   "metadata": {},
   "source": [
    "Step 1: Find the log return of Index"
   ]
  },
  {
   "cell_type": "code",
   "execution_count": 6,
   "metadata": {},
   "outputs": [],
   "source": [
    "log_return = np.log(data['Adj Close'] / data['Adj Close'].shift(1))"
   ]
  },
  {
   "cell_type": "markdown",
   "metadata": {},
   "source": [
    "Step 2: Calculate its standard deviation and annualised  it "
   ]
  },
  {
   "cell_type": "code",
   "execution_count": 7,
   "metadata": {},
   "outputs": [
    {
     "name": "stdout",
     "output_type": "stream",
     "text": [
      "The annualised volatility is 11.89 %\n"
     ]
    }
   ],
   "source": [
    "vol = np.sqrt(252) * log_return.std()\n",
    "print('The annualised volatility is', round(vol*100,2), '%')"
   ]
  },
  {
   "cell_type": "markdown",
   "metadata": {},
   "source": [
    "And the spot value for VIX is "
   ]
  },
  {
   "cell_type": "code",
   "execution_count": 8,
   "metadata": {},
   "outputs": [
    {
     "name": "stderr",
     "output_type": "stream",
     "text": [
      "[*********************100%%**********************]  1 of 1 completed\n"
     ]
    }
   ],
   "source": [
    "VIX = yf.download(\"^VIX\", start=\"2023-03-14\", end=\"2024-03-14\")"
   ]
  },
  {
   "cell_type": "code",
   "execution_count": 9,
   "metadata": {},
   "outputs": [
    {
     "name": "stdout",
     "output_type": "stream",
     "text": [
      "The market volatility is 13.75 %\n"
     ]
    }
   ],
   "source": [
    "vix = VIX['Adj Close'][-1]\n",
    "print('The market volatility is', round(vix,2), '%')"
   ]
  },
  {
   "cell_type": "markdown",
   "metadata": {},
   "source": [
    "## Question 3"
   ]
  },
  {
   "cell_type": "code",
   "execution_count": 10,
   "metadata": {},
   "outputs": [],
   "source": [
    "def euro_option_bs(S, K, T, r, vol, payoff):\n",
    "    \n",
    "    #S: spot price\n",
    "    #K: strike price\n",
    "    #T: time to maturity\n",
    "    #r: interest rate\n",
    "    #vol: volatility of underlying asset\n",
    "    #payoff: call or put\n",
    "    \n",
    "    d1 = (np.log(S / K) + (r + 0.5 * vol ** 2) * T) / (vol * np.sqrt(T))\n",
    "    d2 = (np.log(S / K) + (r - 0.5 * vol ** 2) * T) / (vol * np.sqrt(T))\n",
    "    if payoff == \"call\":\n",
    "        option_value = S * si.norm.cdf(d1, 0.0, 1.0) - K * np.exp(-r * T) * si.norm.cdf(d2, 0.0, 1.0)\n",
    "    elif payoff == \"put\":\n",
    "        option_value = - S * si.norm.cdf(-d1, 0.0, 1.0) + K * np.exp(-r * T) * si.norm.cdf(-d2, 0.0, 1.0)\n",
    "    \n",
    "    return option_value"
   ]
  },
  {
   "cell_type": "code",
   "execution_count": 11,
   "metadata": {},
   "outputs": [],
   "source": [
    "K = 400\n",
    "T = 1/52    \n",
    "r = 0.0382"
   ]
  },
  {
   "cell_type": "code",
   "execution_count": 12,
   "metadata": {},
   "outputs": [
    {
     "name": "stdout",
     "output_type": "stream",
     "text": [
      "The BS call price is 116.26\n"
     ]
    }
   ],
   "source": [
    "call = euro_option_bs(S, K, T, r, vol, 'call')\n",
    "print('The BS call price is', round(call, 2))"
   ]
  },
  {
   "cell_type": "code",
   "execution_count": 13,
   "metadata": {},
   "outputs": [
    {
     "name": "stdout",
     "output_type": "stream",
     "text": [
      "The BS put price is 0.0\n"
     ]
    }
   ],
   "source": [
    "put = euro_option_bs(S, K, T, r, vol, 'put')\n",
    "print('The BS put price is', round(put, 2))"
   ]
  },
  {
   "cell_type": "markdown",
   "metadata": {},
   "source": [
    "## Question 4"
   ]
  },
  {
   "cell_type": "code",
   "execution_count": 14,
   "metadata": {},
   "outputs": [],
   "source": [
    "SP500 = yf.Ticker('SPY')"
   ]
  },
  {
   "cell_type": "code",
   "execution_count": 19,
   "metadata": {},
   "outputs": [
    {
     "name": "stdout",
     "output_type": "stream",
     "text": [
      "The Market call price is 110.44\n"
     ]
    }
   ],
   "source": [
    "opt = SP500.option_chain('2024-03-22')\n",
    "call1 = opt.calls.lastPrice[opt.calls.strike == K]\n",
    "print('The Market call price is', float(call1.values))"
   ]
  },
  {
   "cell_type": "code",
   "execution_count": 20,
   "metadata": {},
   "outputs": [
    {
     "name": "stdout",
     "output_type": "stream",
     "text": [
      "The Market put price is 0.02\n"
     ]
    }
   ],
   "source": [
    "put1 = opt.puts.lastPrice[opt.puts.strike == K]\n",
    "print('The Market put price is', float(put1.values))"
   ]
  },
  {
   "cell_type": "markdown",
   "metadata": {},
   "source": [
    "## Question 5"
   ]
  },
  {
   "cell_type": "code",
   "execution_count": 21,
   "metadata": {},
   "outputs": [
    {
     "name": "stdout",
     "output_type": "stream",
     "text": [
      "The BS call price is 116.26\n"
     ]
    }
   ],
   "source": [
    "call2 = euro_option_bs(S, K, T, r, vix*0.01, 'call')\n",
    "print('The BS call price is', round(call2,2))"
   ]
  },
  {
   "cell_type": "code",
   "execution_count": 22,
   "metadata": {},
   "outputs": [
    {
     "name": "stdout",
     "output_type": "stream",
     "text": [
      "The BS put price is 0.0\n"
     ]
    }
   ],
   "source": [
    "put2 = euro_option_bs(S, K, T, r, vix*0.01, 'put')\n",
    "print('The BS put price is', round(put2,2))"
   ]
  },
  {
   "cell_type": "markdown",
   "metadata": {},
   "source": [
    "The results using the VIX is almost identical to the results using the historical standard deviation. This is because the VIX value and the historical standard deviation are very close."
   ]
  },
  {
   "cell_type": "markdown",
   "metadata": {},
   "source": [
    "## Question 6"
   ]
  },
  {
   "cell_type": "code",
   "execution_count": 23,
   "metadata": {},
   "outputs": [],
   "source": [
    "K = np.linspace(375,425,6)\n",
    "T = [1/52, 2/52, 1/12, 2/12, 1/4, 1/2, 1]"
   ]
  },
  {
   "cell_type": "code",
   "execution_count": 24,
   "metadata": {},
   "outputs": [],
   "source": [
    "call = np.zeros((len(T),len(K)))\n",
    "for i in range(len(T)):\n",
    "    for j in range(len(K)):\n",
    "        call[i,j] = euro_option_bs(S, K[j], T[i], r, vix*0.01, 'call')"
   ]
  },
  {
   "cell_type": "code",
   "execution_count": 25,
   "metadata": {},
   "outputs": [],
   "source": [
    "import matplotlib as mpl\n",
    "import matplotlib.pyplot as plt\n",
    "plt.style.use('seaborn-v0_8')\n",
    "mpl.rcParams['font.family'] = 'serif'\n",
    "%matplotlib inline\n",
    "\n",
    "strike, ttm = np.meshgrid(K, T)"
   ]
  },
  {
   "cell_type": "code",
   "execution_count": 26,
   "metadata": {},
   "outputs": [
    {
     "data": {
      "image/png": "[encoded data removed]",
      "text/plain": [
       "<Figure size 1000x600 with 2 Axes>"
      ]
     },
     "metadata": {},
     "output_type": "display_data"
    }
   ],
   "source": [
    "from mpl_toolkits.mplot3d import Axes3D\n",
    "fig = plt.figure(figsize=(10, 6))\n",
    "ax = fig.add_subplot(projection='3d')\n",
    "surf = ax.plot_surface(strike, ttm, call, rstride=2, cstride=2, cmap=plt.cm.coolwarm, linewidth=0.5, antialiased=True)\n",
    "ax.set_xlabel('Strike')\n",
    "ax.set_ylabel('Time to expiry')\n",
    "ax.set_zlabel('Call price')\n",
    "fig.colorbar(surf, shrink=0.5, aspect=5);"
   ]
  }
 ],
 "metadata": {
  "kernelspec": {
   "display_name": "Python 3 (ipykernel)",
   "language": "python",
   "name": "python3"
  },
  "language_info": {
   "codemirror_mode": {
    "name": "ipython",
    "version": 3
   },
   "file_extension": ".py",
   "mimetype": "text/x-python",
   "name": "python",
   "nbconvert_exporter": "python",
   "pygments_lexer": "ipython3",
   "version": "3.11.5"
  }
 },
 "nbformat": 4,
 "nbformat_minor": 4
}
